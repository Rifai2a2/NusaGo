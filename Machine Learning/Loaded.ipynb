{
 "cells": [
  {
   "cell_type": "code",
   "execution_count": 1,
   "metadata": {},
   "outputs": [],
   "source": [
    "import numpy as np\n",
    "import pandas as pd\n",
    "import tensorflow as tf\n",
    "from sklearn.model_selection import train_test_split\n",
    "import tensorflow_recommenders as tfrs\n",
    "from typing import Dict, Text"
   ]
  },
  {
   "cell_type": "code",
   "execution_count": 2,
   "metadata": {},
   "outputs": [],
   "source": [
    "loaded_model = tf.keras.models.load_model(\"recommender_model_savedmodel\")"
   ]
  },
  {
   "cell_type": "code",
   "execution_count": 4,
   "metadata": {},
   "outputs": [],
   "source": [
    "# Load data\n",
    "rating = pd.read_csv(\"archive (1)/tourism_rating.csv\")\n",
    "place = pd.read_csv(\"archive (1)/Dataset_NusaGo - en-ver (1).csv\")\n",
    "user = pd.read_csv(\"archive (1)/user.csv\")\n",
    "\n",
    "# Merge dataframes\n",
    "\n",
    "merged_df = pd.merge(rating, place, how=\"inner\", on=\"Place_Id\")\n",
    "\n",
    "merged_df = pd.merge(merged_df, user, how=\"inner\", on=\"User_Id\")\n",
    "\n",
    "merged_df = merged_df.drop([\"picture\", \"category\", \"Location\", \"Age\"], axis=1)\n",
    "\n",
    "\n",
    "# Convert \"User_Id\" and \"Place_Id\" to strings\n",
    "\n",
    "merged_df[\"User_Id\"] = merged_df[\"User_Id\"].astype(str)\n",
    "\n",
    "merged_df[\"Place_Id\"] = merged_df[\"Place_Id\"].astype(str)\n",
    "\n",
    "merged_df[\"place_description\"] = merged_df[\"place_description\"].astype(str)\n",
    "\n",
    "merged_df[\"label\"] = merged_df[\"label\"].astype(str)"
   ]
  },
  {
   "cell_type": "code",
   "execution_count": 8,
   "metadata": {},
   "outputs": [
    {
     "name": "stdout",
     "output_type": "stream",
     "text": [
      "Rekomendasi Tempat untuk Pengguna dengan ID 78, Kata Kunci '['White Sand Beach', 'Waterfall', 'Family water tourism']', dan Kategori water activities:\n",
      "1. Progo rafting\n",
      "2. Sri Gethuk Waterfalls\n",
      "3. Sembukan Beach\n",
      "4. Semirang Waterfalls\n",
      "5. Goa Cemara Beach\n"
     ]
    }
   ],
   "source": [
    "def get_embedding(model, string):\n",
    "    return model.layers[1](model.layers[0](string))\n",
    "\n",
    "\n",
    "# Function to get recommendations based on multiple keywords and category\n",
    "def get_recommendations(model, user_id, keywords, category=None, top_k=5):\n",
    "    user_model = model.user_model\n",
    "    place_model = model.place_model\n",
    "    description_model = model.description_model\n",
    "\n",
    "    # Get embeddings for each keyword\n",
    "    keyword_embeddings = [\n",
    "        get_embedding(description_model, np.array([kw])) for kw in keywords\n",
    "    ]\n",
    "\n",
    "    # Calculate average embedding for keywords\n",
    "    avg_keyword_embedding = tf.reduce_mean(keyword_embeddings, axis=0)\n",
    "\n",
    "    # Get all place embeddings\n",
    "    all_place_embeddings = get_embedding(place_model, merged_df[\"Place_name\"].unique())\n",
    "\n",
    "    # Filter places based on category (if provided)\n",
    "    if category is not None:\n",
    "        filtered_places = merged_df[merged_df[\"label\"] == category][\n",
    "            \"Place_name\"\n",
    "        ].unique()\n",
    "        all_place_embeddings = get_embedding(place_model, filtered_places)\n",
    "\n",
    "    # Calculate cosine similarity between average keyword embedding and filtered place embeddings\n",
    "    similarities = tf.matmul(all_place_embeddings, tf.transpose(avg_keyword_embedding))\n",
    "\n",
    "    # Get indices of top-k places with highest similarity\n",
    "    top_indices = tf.argsort(similarities[:, 0], direction=\"DESCENDING\")[:top_k]\n",
    "\n",
    "    # Get recommended places and corresponding user_ids\n",
    "    recommended_places = (\n",
    "        filtered_places[top_indices]\n",
    "        if category is not None\n",
    "        else merged_df[\"Place_name\"].unique()[top_indices]\n",
    "    )\n",
    "    user_ids = [user_id] * top_k\n",
    "\n",
    "    return recommended_places, user_ids\n",
    "\n",
    "\n",
    "# Example usage with multiple keywords and category filter\n",
    "user_id = \"78\"  # Replace with the desired user_id\n",
    "keywords = [\n",
    "    \"White Sand Beach\",\n",
    "    \"Waterfall\",\n",
    "    \"Family water tourism\",\n",
    "]  # Replace with the desired keywords\n",
    "category = \"water activities\"  # Replace with the desired category\n",
    "\n",
    "recommendations, user_ids = get_recommendations(\n",
    "    loaded_model, user_id, keywords, category\n",
    ")\n",
    "\n",
    "# Print recommendations\n",
    "print(\n",
    "    f\"Rekomendasi Tempat untuk Pengguna dengan ID {user_id}, Kata Kunci '{keywords}', dan Kategori {category}:\"\n",
    ")\n",
    "for i, place_name in enumerate(recommendations, start=1):\n",
    "    print(f\"{i}. {place_name}\")"
   ]
  }
 ],
 "metadata": {
  "kernelspec": {
   "display_name": "Python 3",
   "language": "python",
   "name": "python3"
  },
  "language_info": {
   "codemirror_mode": {
    "name": "ipython",
    "version": 3
   },
   "file_extension": ".py",
   "mimetype": "text/x-python",
   "name": "python",
   "nbconvert_exporter": "python",
   "pygments_lexer": "ipython3",
   "version": "3.11.4"
  }
 },
 "nbformat": 4,
 "nbformat_minor": 2
}
